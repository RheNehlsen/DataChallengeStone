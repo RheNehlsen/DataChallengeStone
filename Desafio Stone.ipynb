{
 "cells": [
  {
   "cell_type": "markdown",
   "id": "746ea4ec",
   "metadata": {},
   "source": [
    "# Desafio Stone\n",
    "\n",
    "### Resolvido por Rhenan Silva Nehlsen\n"
   ]
  },
  {
   "cell_type": "code",
   "execution_count": 86,
   "id": "93dcacf9",
   "metadata": {},
   "outputs": [],
   "source": [
    "#Bibliotecas que usarei\n",
    "import pandas as pd\n",
    "import numpy as np\n",
    "import seaborn as sns\n",
    "import matplotlib.pyplot as plt"
   ]
  },
  {
   "cell_type": "code",
   "execution_count": 2,
   "id": "98ce3699",
   "metadata": {},
   "outputs": [],
   "source": [
    "#Lendo os datasets\n",
    "df_customers = pd.read_csv('dataset-customers.csv', sep=';')\n",
    "df_cards = pd.read_csv('dataset-cards.csv', sep=';')\n",
    "df_frauds = pd.read_csv('dataset-frauds.csv', sep=';')\n",
    "df_transactions = pd.read_csv('dataset-transactions.csv', sep=';')"
   ]
  },
  {
   "cell_type": "markdown",
   "id": "f89a88ea",
   "metadata": {},
   "source": [
    "## 1) Questões"
   ]
  },
  {
   "cell_type": "markdown",
   "id": "576737a2",
   "metadata": {},
   "source": [
    "### Qual a média de idade dos clientes no banco de dados?"
   ]
  },
  {
   "cell_type": "code",
   "execution_count": 3,
   "id": "e94f6d60",
   "metadata": {},
   "outputs": [
    {
     "data": {
      "text/html": [
       "<div>\n",
       "<style scoped>\n",
       "    .dataframe tbody tr th:only-of-type {\n",
       "        vertical-align: middle;\n",
       "    }\n",
       "\n",
       "    .dataframe tbody tr th {\n",
       "        vertical-align: top;\n",
       "    }\n",
       "\n",
       "    .dataframe thead th {\n",
       "        text-align: right;\n",
       "    }\n",
       "</style>\n",
       "<table border=\"1\" class=\"dataframe\">\n",
       "  <thead>\n",
       "    <tr style=\"text-align: right;\">\n",
       "      <th></th>\n",
       "      <th>id</th>\n",
       "      <th>age</th>\n",
       "      <th>segment</th>\n",
       "      <th>vintage_group</th>\n",
       "    </tr>\n",
       "  </thead>\n",
       "  <tbody>\n",
       "    <tr>\n",
       "      <th>0</th>\n",
       "      <td>CC25034</td>\n",
       "      <td>35</td>\n",
       "      <td>Diamond</td>\n",
       "      <td>VG1</td>\n",
       "    </tr>\n",
       "    <tr>\n",
       "      <th>1</th>\n",
       "      <td>CC59625</td>\n",
       "      <td>22</td>\n",
       "      <td>Diamond</td>\n",
       "      <td>VG1</td>\n",
       "    </tr>\n",
       "    <tr>\n",
       "      <th>2</th>\n",
       "      <td>CC69314</td>\n",
       "      <td>33</td>\n",
       "      <td>Diamond</td>\n",
       "      <td>VG1</td>\n",
       "    </tr>\n",
       "    <tr>\n",
       "      <th>3</th>\n",
       "      <td>CC67036</td>\n",
       "      <td>46</td>\n",
       "      <td>Diamond</td>\n",
       "      <td>VG1</td>\n",
       "    </tr>\n",
       "    <tr>\n",
       "      <th>4</th>\n",
       "      <td>CC25597</td>\n",
       "      <td>44</td>\n",
       "      <td>Diamond</td>\n",
       "      <td>VG1</td>\n",
       "    </tr>\n",
       "  </tbody>\n",
       "</table>\n",
       "</div>"
      ],
      "text/plain": [
       "        id  age  segment vintage_group\n",
       "0  CC25034   35  Diamond           VG1\n",
       "1  CC59625   22  Diamond           VG1\n",
       "2  CC69314   33  Diamond           VG1\n",
       "3  CC67036   46  Diamond           VG1\n",
       "4  CC25597   44  Diamond           VG1"
      ]
     },
     "execution_count": 3,
     "metadata": {},
     "output_type": "execute_result"
    }
   ],
   "source": [
    "#Conhecendo o dataset\n",
    "df_customers.head()"
   ]
  },
  {
   "cell_type": "code",
   "execution_count": 4,
   "id": "fde90e9a",
   "metadata": {
    "scrolled": true
   },
   "outputs": [
    {
     "data": {
      "text/plain": [
       "count    5674.000000\n",
       "mean       35.059922\n",
       "std         8.962637\n",
       "min        20.000000\n",
       "25%        27.000000\n",
       "50%        35.000000\n",
       "75%        43.000000\n",
       "max        50.000000\n",
       "Name: age, dtype: float64"
      ]
     },
     "execution_count": 4,
     "metadata": {},
     "output_type": "execute_result"
    }
   ],
   "source": [
    "## Média de idade\n",
    "\n",
    "#Podemos calcular a média de idade de duas maneiras\n",
    "\n",
    "#df_customers['age'].mean() -- mostra a média diretamente\n",
    "\n",
    "df_customers['age'].describe() # mostra outras estatísticas "
   ]
  },
  {
   "cell_type": "markdown",
   "id": "f6a2f74a",
   "metadata": {},
   "source": [
    "Os clientes tem idade média de 35,06 anos"
   ]
  },
  {
   "cell_type": "code",
   "execution_count": 100,
   "id": "d2fff7eb",
   "metadata": {
    "scrolled": true
   },
   "outputs": [
    {
     "data": {
      "image/png": "[encoded data removed]",
      "text/plain": [
       "<Figure size 432x288 with 1 Axes>"
      ]
     },
     "metadata": {
      "needs_background": "light"
     },
     "output_type": "display_data"
    }
   ],
   "source": [
    "#Visialuzando a distribuição de idades\n",
    "sns.histplot(df_customers['age']);"
   ]
  },
  {
   "cell_type": "markdown",
   "id": "8cccc19f",
   "metadata": {},
   "source": [
    "### Como a \"família do cartão\" é classificada baseada em seu limite de crédito?"
   ]
  },
  {
   "cell_type": "code",
   "execution_count": 101,
   "id": "984ab780",
   "metadata": {
    "scrolled": true
   },
   "outputs": [
    {
     "data": {
      "text/html": [
       "<div>\n",
       "<style scoped>\n",
       "    .dataframe tbody tr th:only-of-type {\n",
       "        vertical-align: middle;\n",
       "    }\n",
       "\n",
       "    .dataframe tbody tr th {\n",
       "        vertical-align: top;\n",
       "    }\n",
       "\n",
       "    .dataframe thead th {\n",
       "        text-align: right;\n",
       "    }\n",
       "</style>\n",
       "<table border=\"1\" class=\"dataframe\">\n",
       "  <thead>\n",
       "    <tr style=\"text-align: right;\">\n",
       "      <th></th>\n",
       "      <th>card_number</th>\n",
       "      <th>card_family</th>\n",
       "      <th>credit_limit</th>\n",
       "      <th>customer_id</th>\n",
       "    </tr>\n",
       "  </thead>\n",
       "  <tbody>\n",
       "    <tr>\n",
       "      <th>0</th>\n",
       "      <td>8638-5407-3631-8196</td>\n",
       "      <td>Premium</td>\n",
       "      <td>530000</td>\n",
       "      <td>CC67088</td>\n",
       "    </tr>\n",
       "    <tr>\n",
       "      <th>1</th>\n",
       "      <td>7106-4239-7093-1515</td>\n",
       "      <td>Gold</td>\n",
       "      <td>18000</td>\n",
       "      <td>CC12076</td>\n",
       "    </tr>\n",
       "    <tr>\n",
       "      <th>2</th>\n",
       "      <td>6492-5655-8241-3530</td>\n",
       "      <td>Premium</td>\n",
       "      <td>596000</td>\n",
       "      <td>CC97173</td>\n",
       "    </tr>\n",
       "    <tr>\n",
       "      <th>3</th>\n",
       "      <td>2868-5606-5152-5706</td>\n",
       "      <td>Gold</td>\n",
       "      <td>27000</td>\n",
       "      <td>CC55858</td>\n",
       "    </tr>\n",
       "    <tr>\n",
       "      <th>4</th>\n",
       "      <td>1438-6906-2509-8219</td>\n",
       "      <td>Platinum</td>\n",
       "      <td>142000</td>\n",
       "      <td>CC90518</td>\n",
       "    </tr>\n",
       "  </tbody>\n",
       "</table>\n",
       "</div>"
      ],
      "text/plain": [
       "           card_number card_family  credit_limit customer_id\n",
       "0  8638-5407-3631-8196     Premium        530000     CC67088\n",
       "1  7106-4239-7093-1515        Gold         18000     CC12076\n",
       "2  6492-5655-8241-3530     Premium        596000     CC97173\n",
       "3  2868-5606-5152-5706        Gold         27000     CC55858\n",
       "4  1438-6906-2509-8219    Platinum        142000     CC90518"
      ]
     },
     "execution_count": 101,
     "metadata": {},
     "output_type": "execute_result"
    }
   ],
   "source": [
    "#Conhecendo o dataset\n",
    "df_cards.head()"
   ]
  },
  {
   "cell_type": "markdown",
   "id": "8feeeb8b",
   "metadata": {},
   "source": [
    "Para responder a pergunta acima, podemos verificar o intervalo de limites de crédito em que cada família de cartão está."
   ]
  },
  {
   "cell_type": "code",
   "execution_count": 102,
   "id": "d8d9ec18",
   "metadata": {
    "scrolled": true
   },
   "outputs": [
    {
     "data": {
      "text/html": [
       "<div>\n",
       "<style scoped>\n",
       "    .dataframe tbody tr th:only-of-type {\n",
       "        vertical-align: middle;\n",
       "    }\n",
       "\n",
       "    .dataframe tbody tr th {\n",
       "        vertical-align: top;\n",
       "    }\n",
       "\n",
       "    .dataframe thead th {\n",
       "        text-align: right;\n",
       "    }\n",
       "</style>\n",
       "<table border=\"1\" class=\"dataframe\">\n",
       "  <thead>\n",
       "    <tr style=\"text-align: right;\">\n",
       "      <th></th>\n",
       "      <th>min</th>\n",
       "      <th>max</th>\n",
       "      <th>mean</th>\n",
       "    </tr>\n",
       "    <tr>\n",
       "      <th>card_family</th>\n",
       "      <th></th>\n",
       "      <th></th>\n",
       "      <th></th>\n",
       "    </tr>\n",
       "  </thead>\n",
       "  <tbody>\n",
       "    <tr>\n",
       "      <th>Gold</th>\n",
       "      <td>2000</td>\n",
       "      <td>50000</td>\n",
       "      <td>27878.453039</td>\n",
       "    </tr>\n",
       "    <tr>\n",
       "      <th>Platinum</th>\n",
       "      <td>51000</td>\n",
       "      <td>200000</td>\n",
       "      <td>131294.642857</td>\n",
       "    </tr>\n",
       "    <tr>\n",
       "      <th>Premium</th>\n",
       "      <td>108000</td>\n",
       "      <td>899000</td>\n",
       "      <td>514763.285024</td>\n",
       "    </tr>\n",
       "  </tbody>\n",
       "</table>\n",
       "</div>"
      ],
      "text/plain": [
       "                min     max           mean\n",
       "card_family                               \n",
       "Gold           2000   50000   27878.453039\n",
       "Platinum      51000  200000  131294.642857\n",
       "Premium      108000  899000  514763.285024"
      ]
     },
     "execution_count": 102,
     "metadata": {},
     "output_type": "execute_result"
    }
   ],
   "source": [
    "#Agrupa os dados baseado na família do cartão e calcula algumas estatísticas\n",
    "df_cards.groupby('card_family')['credit_limit'].agg(['min', 'max', 'mean'])"
   ]
  },
  {
   "cell_type": "markdown",
   "id": "d43167fa",
   "metadata": {},
   "source": [
    "Da tabela anterior, a classificação dos limites de crédito das famílias dos cartões em ordem crescente é : Gold, Platinum e Premium."
   ]
  },
  {
   "cell_type": "markdown",
   "id": "9dc4d094",
   "metadata": {},
   "source": [
    "### Para as transações fraudulentas, quais são os ids daquelas com maior valor?"
   ]
  },
  {
   "cell_type": "code",
   "execution_count": 115,
   "id": "f2acfd28",
   "metadata": {},
   "outputs": [
    {
     "data": {
      "text/html": [
       "<div>\n",
       "<style scoped>\n",
       "    .dataframe tbody tr th:only-of-type {\n",
       "        vertical-align: middle;\n",
       "    }\n",
       "\n",
       "    .dataframe tbody tr th {\n",
       "        vertical-align: top;\n",
       "    }\n",
       "\n",
       "    .dataframe thead th {\n",
       "        text-align: right;\n",
       "    }\n",
       "</style>\n",
       "<table border=\"1\" class=\"dataframe\">\n",
       "  <thead>\n",
       "    <tr style=\"text-align: right;\">\n",
       "      <th></th>\n",
       "      <th>transaction_id</th>\n",
       "      <th>fraud_flag</th>\n",
       "    </tr>\n",
       "  </thead>\n",
       "  <tbody>\n",
       "    <tr>\n",
       "      <th>0</th>\n",
       "      <td>CTID50558449</td>\n",
       "      <td>True</td>\n",
       "    </tr>\n",
       "    <tr>\n",
       "      <th>1</th>\n",
       "      <td>CTID55936882</td>\n",
       "      <td>True</td>\n",
       "    </tr>\n",
       "    <tr>\n",
       "      <th>2</th>\n",
       "      <td>CTID63762180</td>\n",
       "      <td>True</td>\n",
       "    </tr>\n",
       "    <tr>\n",
       "      <th>3</th>\n",
       "      <td>CTID76723439</td>\n",
       "      <td>True</td>\n",
       "    </tr>\n",
       "    <tr>\n",
       "      <th>4</th>\n",
       "      <td>CTID21246201</td>\n",
       "      <td>True</td>\n",
       "    </tr>\n",
       "  </tbody>\n",
       "</table>\n",
       "</div>"
      ],
      "text/plain": [
       "  transaction_id  fraud_flag\n",
       "0   CTID50558449        True\n",
       "1   CTID55936882        True\n",
       "2   CTID63762180        True\n",
       "3   CTID76723439        True\n",
       "4   CTID21246201        True"
      ]
     },
     "execution_count": 115,
     "metadata": {},
     "output_type": "execute_result"
    }
   ],
   "source": [
    "#Conhecendo o dataset\n",
    "df_frauds.head()"
   ]
  },
  {
   "cell_type": "code",
   "execution_count": 104,
   "id": "ee129c6c",
   "metadata": {
    "scrolled": true
   },
   "outputs": [
    {
     "data": {
      "text/html": [
       "<div>\n",
       "<style scoped>\n",
       "    .dataframe tbody tr th:only-of-type {\n",
       "        vertical-align: middle;\n",
       "    }\n",
       "\n",
       "    .dataframe tbody tr th {\n",
       "        vertical-align: top;\n",
       "    }\n",
       "\n",
       "    .dataframe thead th {\n",
       "        text-align: right;\n",
       "    }\n",
       "</style>\n",
       "<table border=\"1\" class=\"dataframe\">\n",
       "  <thead>\n",
       "    <tr style=\"text-align: right;\">\n",
       "      <th></th>\n",
       "      <th>id</th>\n",
       "      <th>card_number</th>\n",
       "      <th>transaction_date</th>\n",
       "      <th>value</th>\n",
       "      <th>segment</th>\n",
       "    </tr>\n",
       "  </thead>\n",
       "  <tbody>\n",
       "    <tr>\n",
       "      <th>0</th>\n",
       "      <td>CTID28830551</td>\n",
       "      <td>1629-9566-3285-2123</td>\n",
       "      <td>2016-04-24</td>\n",
       "      <td>23649</td>\n",
       "      <td>SEG25</td>\n",
       "    </tr>\n",
       "    <tr>\n",
       "      <th>1</th>\n",
       "      <td>CTID45504917</td>\n",
       "      <td>3697-6001-4909-5350</td>\n",
       "      <td>2016-02-11</td>\n",
       "      <td>26726</td>\n",
       "      <td>SEG16</td>\n",
       "    </tr>\n",
       "    <tr>\n",
       "      <th>2</th>\n",
       "      <td>CTID47312290</td>\n",
       "      <td>5864-4475-3659-1440</td>\n",
       "      <td>2016-11-01</td>\n",
       "      <td>22012</td>\n",
       "      <td>SEG14</td>\n",
       "    </tr>\n",
       "    <tr>\n",
       "      <th>3</th>\n",
       "      <td>CTID25637718</td>\n",
       "      <td>5991-4421-8476-3804</td>\n",
       "      <td>2016-01-28</td>\n",
       "      <td>37637</td>\n",
       "      <td>SEG17</td>\n",
       "    </tr>\n",
       "    <tr>\n",
       "      <th>4</th>\n",
       "      <td>CTID66743960</td>\n",
       "      <td>1893-8853-9900-8478</td>\n",
       "      <td>2016-03-17</td>\n",
       "      <td>5113</td>\n",
       "      <td>SEG14</td>\n",
       "    </tr>\n",
       "  </tbody>\n",
       "</table>\n",
       "</div>"
      ],
      "text/plain": [
       "             id          card_number transaction_date  value segment\n",
       "0  CTID28830551  1629-9566-3285-2123       2016-04-24  23649   SEG25\n",
       "1  CTID45504917  3697-6001-4909-5350       2016-02-11  26726   SEG16\n",
       "2  CTID47312290  5864-4475-3659-1440       2016-11-01  22012   SEG14\n",
       "3  CTID25637718  5991-4421-8476-3804       2016-01-28  37637   SEG17\n",
       "4  CTID66743960  1893-8853-9900-8478       2016-03-17   5113   SEG14"
      ]
     },
     "execution_count": 104,
     "metadata": {},
     "output_type": "execute_result"
    }
   ],
   "source": [
    "#Conhecendo o dataset\n",
    "df_transactions.head()"
   ]
  },
  {
   "cell_type": "markdown",
   "id": "405c32b3",
   "metadata": {},
   "source": [
    "Para responder a pergunta, precimos unir os datasets de fraudes e de transações, calcular o maior valor transacionado e pegar os ids das transações com este valor."
   ]
  },
  {
   "cell_type": "code",
   "execution_count": 105,
   "id": "cb1fb4c8",
   "metadata": {},
   "outputs": [
    {
     "name": "stdout",
     "output_type": "stream",
     "text": [
      "Maior valor transacionado em fraudes:  49155\n",
      "Id(s) das transações com este valor: \n",
      "CTID20567160\n"
     ]
    }
   ],
   "source": [
    "#Une os datasets\n",
    "df_fraudulentas = df_transactions.merge(df_frauds, left_on='id', right_on='transaction_id')\n",
    "\n",
    "#Obtem o maior valor das fraudes\n",
    "maximo_fraude = df_fraudulentas['value'].max()\n",
    "\n",
    "#Obtem os ids \n",
    "ids = df_fraudulentas.query('value == @maximo_fraude')['id'].to_list()\n",
    "\n",
    "print('Maior valor transacionado em fraudes: ', maximo_fraude)\n",
    "print('Id(s) das transações com este valor: ')\n",
    "for id in ids:\n",
    "    print(id)"
   ]
  },
  {
   "cell_type": "markdown",
   "id": "5cf1c74d",
   "metadata": {},
   "source": [
    "## 2) Análise\n",
    "\n",
    "Para analisar se outras features do dataset estão associadas às trasações fraudulentas, vamos dividr a abordagem em três caminhos:\n",
    "\n",
    "1. Análise dos clientes\n",
    " - Idade\n",
    " - Número do cartão\n",
    " - Familia do cartão\n",
    " \n",
    " \n",
    "2. Análse da transação\n",
    " - Valor da transação\n",
    " - Data da transação\n",
    " \n",
    "\n",
    "3. Relações entre 1 e 2 \n",
    " "
   ]
  },
  {
   "cell_type": "markdown",
   "id": "1a1ef8c4",
   "metadata": {},
   "source": [
    "Para facilitar a análise, vamos juntar todos os datasets em um único."
   ]
  },
  {
   "cell_type": "code",
   "execution_count": 107,
   "id": "ed07f40a",
   "metadata": {},
   "outputs": [],
   "source": [
    " # Cada cartão está relacionado a um cliente\n",
    "df_consolidado = df_customers.merge(df_cards, left_on='id', right_on='customer_id', how='inner')\n",
    "df_consolidado.drop(columns=['id'], inplace=True) # a coluna id é igual a costumer_id\n",
    "\n",
    "#Cada transação está relacionada a um cartão\n",
    "df_consolidado = df_consolidado.merge(df_transactions, left_on='card_number', right_on='card_number')\n",
    "df_consolidado.rename(columns={'id': 'transaction_id'}, inplace= True)\n",
    "\n",
    "#Cada transação fraudulenta está relacionada a uma transação\n",
    "df_consolidado = df_consolidado.merge(df_frauds, left_on='transaction_id', right_on='transaction_id', how='left')\n",
    "\n",
    "# Identifica as transações não fraudulentas\n",
    "df_consolidado['fraud_flag'].fillna(False, inplace=True)"
   ]
  },
  {
   "cell_type": "code",
   "execution_count": 112,
   "id": "343fe4d7",
   "metadata": {
    "scrolled": false
   },
   "outputs": [
    {
     "data": {
      "text/html": [
       "<div>\n",
       "<style scoped>\n",
       "    .dataframe tbody tr th:only-of-type {\n",
       "        vertical-align: middle;\n",
       "    }\n",
       "\n",
       "    .dataframe tbody tr th {\n",
       "        vertical-align: top;\n",
       "    }\n",
       "\n",
       "    .dataframe thead th {\n",
       "        text-align: right;\n",
       "    }\n",
       "</style>\n",
       "<table border=\"1\" class=\"dataframe\">\n",
       "  <thead>\n",
       "    <tr style=\"text-align: right;\">\n",
       "      <th></th>\n",
       "      <th>age</th>\n",
       "      <th>segment_x</th>\n",
       "      <th>vintage_group</th>\n",
       "      <th>card_number</th>\n",
       "      <th>card_family</th>\n",
       "      <th>credit_limit</th>\n",
       "      <th>customer_id</th>\n",
       "      <th>transaction_id</th>\n",
       "      <th>transaction_date</th>\n",
       "      <th>value</th>\n",
       "      <th>segment_y</th>\n",
       "      <th>fraud_flag</th>\n",
       "    </tr>\n",
       "  </thead>\n",
       "  <tbody>\n",
       "    <tr>\n",
       "      <th>2607</th>\n",
       "      <td>24</td>\n",
       "      <td>Gold</td>\n",
       "      <td>VG3</td>\n",
       "      <td>8115-7743-6213-9284</td>\n",
       "      <td>Premium</td>\n",
       "      <td>796000</td>\n",
       "      <td>CC42687</td>\n",
       "      <td>CTID47772199</td>\n",
       "      <td>2016-07-01</td>\n",
       "      <td>23786</td>\n",
       "      <td>SEG23</td>\n",
       "      <td>False</td>\n",
       "    </tr>\n",
       "    <tr>\n",
       "      <th>3437</th>\n",
       "      <td>30</td>\n",
       "      <td>Platinum</td>\n",
       "      <td>VG2</td>\n",
       "      <td>5590-1294-8800-2874</td>\n",
       "      <td>Premium</td>\n",
       "      <td>516000</td>\n",
       "      <td>CC28205</td>\n",
       "      <td>CTID56747160</td>\n",
       "      <td>2016-05-09</td>\n",
       "      <td>3063</td>\n",
       "      <td>SEG21</td>\n",
       "      <td>False</td>\n",
       "    </tr>\n",
       "    <tr>\n",
       "      <th>6328</th>\n",
       "      <td>48</td>\n",
       "      <td>Platinum</td>\n",
       "      <td>VG2</td>\n",
       "      <td>3440-3330-5015-4988</td>\n",
       "      <td>Premium</td>\n",
       "      <td>549000</td>\n",
       "      <td>CC28038</td>\n",
       "      <td>CTID26082501</td>\n",
       "      <td>2016-01-16</td>\n",
       "      <td>39426</td>\n",
       "      <td>SEG11</td>\n",
       "      <td>False</td>\n",
       "    </tr>\n",
       "    <tr>\n",
       "      <th>9947</th>\n",
       "      <td>49</td>\n",
       "      <td>Platinum</td>\n",
       "      <td>VG2</td>\n",
       "      <td>9558-5469-2562-5608</td>\n",
       "      <td>Premium</td>\n",
       "      <td>596000</td>\n",
       "      <td>CC30954</td>\n",
       "      <td>CTID68254021</td>\n",
       "      <td>2016-08-23</td>\n",
       "      <td>46952</td>\n",
       "      <td>SEG20</td>\n",
       "      <td>False</td>\n",
       "    </tr>\n",
       "    <tr>\n",
       "      <th>9726</th>\n",
       "      <td>40</td>\n",
       "      <td>Platinum</td>\n",
       "      <td>VG2</td>\n",
       "      <td>6514-4444-5642-2615</td>\n",
       "      <td>Premium</td>\n",
       "      <td>356000</td>\n",
       "      <td>CC60423</td>\n",
       "      <td>CTID57912145</td>\n",
       "      <td>2016-07-21</td>\n",
       "      <td>544</td>\n",
       "      <td>SEG19</td>\n",
       "      <td>False</td>\n",
       "    </tr>\n",
       "  </tbody>\n",
       "</table>\n",
       "</div>"
      ],
      "text/plain": [
       "      age segment_x vintage_group          card_number card_family  \\\n",
       "2607   24      Gold           VG3  8115-7743-6213-9284     Premium   \n",
       "3437   30  Platinum           VG2  5590-1294-8800-2874     Premium   \n",
       "6328   48  Platinum           VG2  3440-3330-5015-4988     Premium   \n",
       "9947   49  Platinum           VG2  9558-5469-2562-5608     Premium   \n",
       "9726   40  Platinum           VG2  6514-4444-5642-2615     Premium   \n",
       "\n",
       "      credit_limit customer_id transaction_id transaction_date  value  \\\n",
       "2607        796000     CC42687   CTID47772199       2016-07-01  23786   \n",
       "3437        516000     CC28205   CTID56747160       2016-05-09   3063   \n",
       "6328        549000     CC28038   CTID26082501       2016-01-16  39426   \n",
       "9947        596000     CC30954   CTID68254021       2016-08-23  46952   \n",
       "9726        356000     CC60423   CTID57912145       2016-07-21    544   \n",
       "\n",
       "     segment_y  fraud_flag  \n",
       "2607     SEG23       False  \n",
       "3437     SEG21       False  \n",
       "6328     SEG11       False  \n",
       "9947     SEG20       False  \n",
       "9726     SEG19       False  "
      ]
     },
     "execution_count": 112,
     "metadata": {},
     "output_type": "execute_result"
    }
   ],
   "source": [
    "df_consolidado.sample(5)"
   ]
  },
  {
   "cell_type": "code",
   "execution_count": 119,
   "id": "bbd542b1",
   "metadata": {},
   "outputs": [
    {
     "name": "stdout",
     "output_type": "stream",
     "text": [
      "Proporção de transações fraudulentas:  1.09 %\n"
     ]
    }
   ],
   "source": [
    "print('Proporção de transações fraudulentas: ', 100*len(df_frauds)/len(df_consolidado), '%')"
   ]
  },
  {
   "cell_type": "markdown",
   "id": "70fc9ef4",
   "metadata": {},
   "source": [
    "Antes de qualquer coisa, vale a pena verificar a matriz de correlação das variáveis a fim de encontrar relações mais evidentes."
   ]
  },
  {
   "cell_type": "code",
   "execution_count": 113,
   "id": "0e2bf308",
   "metadata": {},
   "outputs": [
    {
     "data": {
      "text/html": [
       "<div>\n",
       "<style scoped>\n",
       "    .dataframe tbody tr th:only-of-type {\n",
       "        vertical-align: middle;\n",
       "    }\n",
       "\n",
       "    .dataframe tbody tr th {\n",
       "        vertical-align: top;\n",
       "    }\n",
       "\n",
       "    .dataframe thead th {\n",
       "        text-align: right;\n",
       "    }\n",
       "</style>\n",
       "<table border=\"1\" class=\"dataframe\">\n",
       "  <thead>\n",
       "    <tr style=\"text-align: right;\">\n",
       "      <th></th>\n",
       "      <th>age</th>\n",
       "      <th>credit_limit</th>\n",
       "      <th>value</th>\n",
       "      <th>fraud_flag</th>\n",
       "    </tr>\n",
       "  </thead>\n",
       "  <tbody>\n",
       "    <tr>\n",
       "      <th>age</th>\n",
       "      <td>1.000000</td>\n",
       "      <td>-0.012878</td>\n",
       "      <td>-0.001739</td>\n",
       "      <td>-0.006525</td>\n",
       "    </tr>\n",
       "    <tr>\n",
       "      <th>credit_limit</th>\n",
       "      <td>-0.012878</td>\n",
       "      <td>1.000000</td>\n",
       "      <td>-0.006661</td>\n",
       "      <td>-0.005704</td>\n",
       "    </tr>\n",
       "    <tr>\n",
       "      <th>value</th>\n",
       "      <td>-0.001739</td>\n",
       "      <td>-0.006661</td>\n",
       "      <td>1.000000</td>\n",
       "      <td>0.014976</td>\n",
       "    </tr>\n",
       "    <tr>\n",
       "      <th>fraud_flag</th>\n",
       "      <td>-0.006525</td>\n",
       "      <td>-0.005704</td>\n",
       "      <td>0.014976</td>\n",
       "      <td>1.000000</td>\n",
       "    </tr>\n",
       "  </tbody>\n",
       "</table>\n",
       "</div>"
      ],
      "text/plain": [
       "                   age  credit_limit     value  fraud_flag\n",
       "age           1.000000     -0.012878 -0.001739   -0.006525\n",
       "credit_limit -0.012878      1.000000 -0.006661   -0.005704\n",
       "value        -0.001739     -0.006661  1.000000    0.014976\n",
       "fraud_flag   -0.006525     -0.005704  0.014976    1.000000"
      ]
     },
     "execution_count": 113,
     "metadata": {},
     "output_type": "execute_result"
    }
   ],
   "source": [
    "df_consolidado.corr()"
   ]
  },
  {
   "cell_type": "markdown",
   "id": "39ac1eee",
   "metadata": {},
   "source": [
    "As variáveis estão fracamente correlacionadas. "
   ]
  },
  {
   "cell_type": "markdown",
   "id": "dce494c2",
   "metadata": {},
   "source": [
    "### Análise dos clientes \n",
    "\n",
    "Podemos começar verificando se há alguma diferença na distribuição de idade dos clientes que comentem fraudes."
   ]
  },
  {
   "cell_type": "code",
   "execution_count": 116,
   "id": "a072b313",
   "metadata": {
    "scrolled": true
   },
   "outputs": [
    {
     "data": {
      "image/png": "[encoded data removed]",
      "text/plain": [
       "<Figure size 432x288 with 1 Axes>"
      ]
     },
     "metadata": {
      "needs_background": "light"
     },
     "output_type": "display_data"
    }
   ],
   "source": [
    "sns.boxplot(x='fraud_flag', y='age', data=df_consolidado);"
   ]
  },
  {
   "cell_type": "markdown",
   "id": "9f67824e",
   "metadata": {},
   "source": [
    "Visualmente, não a diferença significativa de idade.\n",
    "\n",
    "Ainda analisando os clientes, podemos ver se há recorrência no cometimento de fraude. "
   ]
  },
  {
   "cell_type": "code",
   "execution_count": 132,
   "id": "4e0621e3",
   "metadata": {},
   "outputs": [
    {
     "data": {
      "image/png": "[encoded data removed]",
      "text/plain": [
       "<Figure size 432x288 with 1 Axes>"
      ]
     },
     "metadata": {
      "needs_background": "light"
     },
     "output_type": "display_data"
    }
   ],
   "source": [
    "sns.histplot(df_consolidado.query('fraud_flag==True').groupby('customer_id')['age'].count());"
   ]
  },
  {
   "cell_type": "markdown",
   "id": "297ec8b0",
   "metadata": {},
   "source": [
    "Podemos ver que há uma baixa recorrência.\n",
    "\n",
    "Por fim, vale verificar a proporção de fraudes por família de cartão "
   ]
  },
  {
   "cell_type": "code",
   "execution_count": 137,
   "id": "3675158e",
   "metadata": {},
   "outputs": [
    {
     "name": "stdout",
     "output_type": "stream",
     "text": [
      "Proporção de fraudes na família Premium = \n",
      "          0.010978287387167602\n",
      "Proporção de fraudes na família Gold = \n",
      "          0.010726072607260726\n",
      "Proporção de fraudes na família Platinum = \n",
      "          0.011037527593818985\n"
     ]
    }
   ],
   "source": [
    "familias = df_cards['card_family'].unique()\n",
    "\n",
    "for familia in familias:\n",
    "    print(f'''Proporção de fraudes na família {familia} = \n",
    "          {df_consolidado.query('fraud_flag==True & card_family==@familia')['age'].count()/\n",
    "           df_consolidado.query('card_family==@familia')['age'].count()}''')"
   ]
  },
  {
   "cell_type": "markdown",
   "id": "9bf57bea",
   "metadata": {},
   "source": [
    "As proporções são bem proxímas."
   ]
  },
  {
   "cell_type": "markdown",
   "id": "7f4e4415",
   "metadata": {},
   "source": [
    "### Análise das transações \n",
    "\n",
    "Uma primeira ideia que pode ser testada é que o valor das transações fraudulentas são maiores."
   ]
  },
  {
   "cell_type": "code",
   "execution_count": 138,
   "id": "2c1431e4",
   "metadata": {
    "scrolled": true
   },
   "outputs": [
    {
     "data": {
      "image/png": "[encoded data removed]",
      "text/plain": [
       "<Figure size 432x288 with 1 Axes>"
      ]
     },
     "metadata": {
      "needs_background": "light"
     },
     "output_type": "display_data"
    }
   ],
   "source": [
    "sns.boxplot(x='fraud_flag', y='value', data=df_consolidado);"
   ]
  },
  {
   "cell_type": "markdown",
   "id": "63a88864",
   "metadata": {},
   "source": [
    "Na média, os valores das transações fraudulentas parecem ser maiores. Mas, como apenas 1% das transações são fraudulentas, devemos tomar cuidado com esta observação. Faremos um teste de hipóteses para verificar se realmente a média é maior."
   ]
  },
  {
   "cell_type": "code",
   "execution_count": 139,
   "id": "ad2f387a",
   "metadata": {},
   "outputs": [],
   "source": [
    "from scipy.stats import t\n",
    "\n",
    "def aspin_welch(amostra1, amostra2):\n",
    "    #Calcula o número de graus de liberdade da t-student pelo critério de Aspin-Welch\n",
    "    w1 = amostra1.var()/len(amostra1)\n",
    "    w2 = amostra2.var()/len(amostra2)\n",
    "    \n",
    "    denominador = (w1**2)/(len(amostra1)+1) + (w2**2)/(len(amostra2)+1)\n",
    "    \n",
    "    return ((w1+w2)**2)/denominador -2\n",
    "\n",
    "def teste_hipotese_t(alpha, mediaMenor, mediaMaior):\n",
    "    # Teste de hipótese T assumindo que as variâncias populacionais são distintas\n",
    "    \n",
    "    media = mediaMaior.mean() - mediaMenor.mean()\n",
    "    \n",
    "    n1 = len(mediaMaior) -1\n",
    "    n2 = len(mediaMenor) -1\n",
    "    variancia = (n1*mediaMaior.var() + n2*mediaMaior.var())/(n1 + n2)\n",
    "    \n",
    "    t_calc = media/np.sqrt(variancia*(1/(n1+1 + 1/(n2+1))))\n",
    "    \n",
    "    graus = aspin_welch(mediaMaior, mediaMenor)\n",
    "    \n",
    "    t_crit = t.ppf(1-alpha, graus)\n",
    "    \n",
    "    print('t-calculado: ', t_calc)\n",
    "    print('t-crítico: ', t_crit)\n",
    "    \n",
    "    return t_calc>t_crit\n",
    "                           \n"
   ]
  },
  {
   "cell_type": "code",
   "execution_count": 144,
   "id": "4783bf77",
   "metadata": {
    "scrolled": true
   },
   "outputs": [
    {
     "name": "stdout",
     "output_type": "stream",
     "text": [
      "Confiança:  0.99\n",
      "t-calculado:  1.5941846270937265\n",
      "t-crítico:  2.360494385224715\n",
      "A media dos valores das transações fraudulentas é maior:  False\n",
      "\n",
      "\n",
      "Confiança:  0.95\n",
      "t-calculado:  1.5941846270937265\n",
      "t-crítico:  1.6587304375905343\n",
      "A media dos valores das transações fraudulentas é maior:  False\n",
      "\n",
      "\n",
      "Confiança:  0.9\n",
      "t-calculado:  1.5941846270937265\n",
      "t-crítico:  1.2892433237276217\n",
      "A media dos valores das transações fraudulentas é maior:  True\n",
      "\n",
      "\n"
     ]
    }
   ],
   "source": [
    "alphas = [0.01, 0.05, 0.1]\n",
    "for alpha in alphas:\n",
    "    print('Confiança: ', 1-alpha)\n",
    "    print('A media dos valores das transações fraudulentas é maior: ',\n",
    "          teste_hipotese_t(alpha, df_consolidado.query('fraud_flag==False')['value'],\n",
    "                          df_consolidado.query('fraud_flag==True')['value']))\n",
    "    print('\\n')"
   ]
  },
  {
   "cell_type": "markdown",
   "id": "b347ad1c",
   "metadata": {},
   "source": [
    "Com base no teste de hipóteses, podemos afirmar com 90% de confiança que a média dos valores das transações fraudulentas é maior.\n",
    "\n",
    "\n",
    "Agora, podemos olhar para a quantidade de fraudes por dia da semana"
   ]
  },
  {
   "cell_type": "code",
   "execution_count": 171,
   "id": "aa15a591",
   "metadata": {},
   "outputs": [],
   "source": [
    "from datetime import datetime as dt\n",
    "\n",
    "#Obtem o dia da semana de uma data, sendo que 0 significa segunda e 6 significa domingo\n",
    "df_consolidado['transaction_weekday'] = df_consolidado['transaction_date'].apply(lambda x: dt.strptime(x, '%Y-%m-%d').weekday())\n"
   ]
  },
  {
   "cell_type": "code",
   "execution_count": 181,
   "id": "fabf7a3b",
   "metadata": {
    "scrolled": true
   },
   "outputs": [
    {
     "data": {
      "image/png": "[encoded data removed]",
      "text/plain": [
       "<Figure size 648x288 with 2 Axes>"
      ]
     },
     "metadata": {
      "needs_background": "light"
     },
     "output_type": "display_data"
    }
   ],
   "source": [
    "fig, axes = plt.subplots(1,2, figsize=(9,4))\n",
    "\n",
    "sns.histplot(ax= axes[0],x='transaction_weekday', discrete=True ,data=df_consolidado.query('fraud_flag==True'), color='r');\n",
    "axes[0].set_title('Transações fraudulentas');\n",
    "sns.histplot(ax=axes[1], x='transaction_weekday',discrete=True ,data=df_consolidado.query('fraud_flag==False'));\n",
    "axes[1].set_title('Transações não fraudulentas');\n",
    "\n",
    "fig.tight_layout()"
   ]
  },
  {
   "cell_type": "markdown",
   "id": "3044274d",
   "metadata": {},
   "source": [
    "Enquanto as transações não fraudulentas estão uniformemente distribuidas, as transações fradulentas parecem estar mais concentradas no final de semana. Utilizando esta observação e a anterior de que a média dos valores é maior, podemos fazer um teste de hipóteses para cada dia da semana, a fim de obter uma confiaça maior."
   ]
  },
  {
   "cell_type": "code",
   "execution_count": 186,
   "id": "6f573e6b",
   "metadata": {
    "scrolled": true
   },
   "outputs": [
    {
     "name": "stdout",
     "output_type": "stream",
     "text": [
      "Dia  0\n",
      "t-calculado:  -0.020571964818230763\n",
      "t-crítico:  1.767919889893838\n",
      "A media dos valores das transações fraudulentas é maior:  False\n",
      "\n",
      "\n",
      "Dia  1\n",
      "t-calculado:  1.1487352383173368\n",
      "t-crítico:  1.8284250173760999\n",
      "A media dos valores das transações fraudulentas é maior:  False\n",
      "\n",
      "\n",
      "Dia  2\n",
      "t-calculado:  1.5412058089921923\n",
      "t-crítico:  1.7424530444973585\n",
      "A media dos valores das transações fraudulentas é maior:  False\n",
      "\n",
      "\n",
      "Dia  3\n",
      "t-calculado:  0.8907637378672063\n",
      "t-crítico:  1.7495233275778053\n",
      "A media dos valores das transações fraudulentas é maior:  False\n",
      "\n",
      "\n",
      "Dia  4\n",
      "t-calculado:  -1.9332617368135228\n",
      "t-crítico:  1.7498527800766124\n",
      "A media dos valores das transações fraudulentas é maior:  False\n",
      "\n",
      "\n",
      "Dia  5\n",
      "t-calculado:  2.2225339504660977\n",
      "t-crítico:  1.7254210438643345\n",
      "A media dos valores das transações fraudulentas é maior:  True\n",
      "\n",
      "\n",
      "Dia  6\n",
      "t-calculado:  0.5232474579400801\n",
      "t-crítico:  1.7502147807063269\n",
      "A media dos valores das transações fraudulentas é maior:  False\n",
      "\n",
      "\n"
     ]
    }
   ],
   "source": [
    "for i in range(7):\n",
    "    print('Dia ', i)\n",
    "    print('A media dos valores das transações fraudulentas é maior: ',\n",
    "          teste_hipotese_t(0.05, df_consolidado.query('fraud_flag==False & transaction_weekday==@i')['value'],\n",
    "                          df_consolidado.query('fraud_flag==True & transaction_weekday==@i')['value']))\n",
    "    print('\\n')"
   ]
  },
  {
   "cell_type": "markdown",
   "id": "f0b63930",
   "metadata": {},
   "source": [
    "Com 95% de confinça, apenas no sábado a média do valor das transações fraudulentas foi maior. Logo, não podemos relacionar os dias da semana que ocorrem as fraudes com a média valores das transações.\n",
    "\n"
   ]
  },
  {
   "cell_type": "markdown",
   "id": "e540357f",
   "metadata": {},
   "source": [
    "### Relações entre clientes e transações\n",
    "\n",
    "Para finalizar, vamos cruzar as informações dos clientes com as das transações feitas por eles.\n",
    "\n",
    "Como ponto de partida, analisaremos se a transação fraudulenta de um cliente foge dos padrões das transações anteriores."
   ]
  },
  {
   "cell_type": "code",
   "execution_count": 211,
   "id": "da2a88b3",
   "metadata": {},
   "outputs": [],
   "source": [
    "fraudadores = df_consolidado.query('fraud_flag==True')['customer_id'].unique()\n",
    "\n",
    "df_fraudadores = []\n",
    "for fraudador in fraudadores:\n",
    "    for valor in df_consolidado.query('fraud_flag==True & customer_id==@fraudador')['value'].to_list():\n",
    "        fraude_dict ={\n",
    "            'customer_id': fraudador,\n",
    "            'media_sem_fraude': df_consolidado.query('fraud_flag==False & customer_id==@fraudador')['value'].mean(),\n",
    "            'numero_transacoes_sem_fraude': df_consolidado.query('fraud_flag==False & customer_id==@fraudador')['value'].count(),\n",
    "            'fraude': valor,\n",
    "        }\n",
    "\n",
    "        df_fraudadores.append(fraude_dict)\n",
    "        del fraude_dict\n",
    "\n",
    "df_fraudadores = pd.DataFrame.from_dict(df_fraudadores)\n",
    "\n",
    "df_fraudadores['diferenca_media'] = df_fraudadores.apply(lambda x : x['fraude'] - x['media_sem_fraude'], axis=1)"
   ]
  },
  {
   "cell_type": "code",
   "execution_count": 229,
   "id": "fab2b8b1",
   "metadata": {},
   "outputs": [
    {
     "data": {
      "text/html": [
       "<div>\n",
       "<style scoped>\n",
       "    .dataframe tbody tr th:only-of-type {\n",
       "        vertical-align: middle;\n",
       "    }\n",
       "\n",
       "    .dataframe tbody tr th {\n",
       "        vertical-align: top;\n",
       "    }\n",
       "\n",
       "    .dataframe thead th {\n",
       "        text-align: right;\n",
       "    }\n",
       "</style>\n",
       "<table border=\"1\" class=\"dataframe\">\n",
       "  <thead>\n",
       "    <tr style=\"text-align: right;\">\n",
       "      <th></th>\n",
       "      <th>customer_id</th>\n",
       "      <th>media_sem_fraude</th>\n",
       "      <th>numero_transacoes_sem_fraude</th>\n",
       "      <th>fraude</th>\n",
       "      <th>diferenca_media</th>\n",
       "    </tr>\n",
       "  </thead>\n",
       "  <tbody>\n",
       "    <tr>\n",
       "      <th>64</th>\n",
       "      <td>CC29686</td>\n",
       "      <td>21612.714286</td>\n",
       "      <td>14</td>\n",
       "      <td>6477</td>\n",
       "      <td>-15135.714286</td>\n",
       "    </tr>\n",
       "    <tr>\n",
       "      <th>3</th>\n",
       "      <td>CC93075</td>\n",
       "      <td>22392.380952</td>\n",
       "      <td>21</td>\n",
       "      <td>30339</td>\n",
       "      <td>7946.619048</td>\n",
       "    </tr>\n",
       "    <tr>\n",
       "      <th>88</th>\n",
       "      <td>CC92155</td>\n",
       "      <td>22208.136364</td>\n",
       "      <td>22</td>\n",
       "      <td>25383</td>\n",
       "      <td>3174.863636</td>\n",
       "    </tr>\n",
       "    <tr>\n",
       "      <th>9</th>\n",
       "      <td>CC35750</td>\n",
       "      <td>17072.166667</td>\n",
       "      <td>18</td>\n",
       "      <td>27347</td>\n",
       "      <td>10274.833333</td>\n",
       "    </tr>\n",
       "    <tr>\n",
       "      <th>62</th>\n",
       "      <td>CC28038</td>\n",
       "      <td>26123.952381</td>\n",
       "      <td>21</td>\n",
       "      <td>8243</td>\n",
       "      <td>-17880.952381</td>\n",
       "    </tr>\n",
       "  </tbody>\n",
       "</table>\n",
       "</div>"
      ],
      "text/plain": [
       "   customer_id  media_sem_fraude  numero_transacoes_sem_fraude  fraude  \\\n",
       "64     CC29686      21612.714286                            14    6477   \n",
       "3      CC93075      22392.380952                            21   30339   \n",
       "88     CC92155      22208.136364                            22   25383   \n",
       "9      CC35750      17072.166667                            18   27347   \n",
       "62     CC28038      26123.952381                            21    8243   \n",
       "\n",
       "    diferenca_media  \n",
       "64    -15135.714286  \n",
       "3       7946.619048  \n",
       "88      3174.863636  \n",
       "9      10274.833333  \n",
       "62    -17880.952381  "
      ]
     },
     "execution_count": 229,
     "metadata": {},
     "output_type": "execute_result"
    }
   ],
   "source": [
    "df_fraudadores.sample(5)"
   ]
  },
  {
   "cell_type": "code",
   "execution_count": 207,
   "id": "b13e65cf",
   "metadata": {
    "scrolled": true
   },
   "outputs": [
    {
     "data": {
      "text/html": [
       "<div>\n",
       "<style scoped>\n",
       "    .dataframe tbody tr th:only-of-type {\n",
       "        vertical-align: middle;\n",
       "    }\n",
       "\n",
       "    .dataframe tbody tr th {\n",
       "        vertical-align: top;\n",
       "    }\n",
       "\n",
       "    .dataframe thead th {\n",
       "        text-align: right;\n",
       "    }\n",
       "</style>\n",
       "<table border=\"1\" class=\"dataframe\">\n",
       "  <thead>\n",
       "    <tr style=\"text-align: right;\">\n",
       "      <th></th>\n",
       "      <th>media_sem_fraude</th>\n",
       "      <th>numero_transacoes_sem_fraude</th>\n",
       "      <th>fraude</th>\n",
       "      <th>diferenca_media</th>\n",
       "    </tr>\n",
       "  </thead>\n",
       "  <tbody>\n",
       "    <tr>\n",
       "      <th>count</th>\n",
       "      <td>109.000000</td>\n",
       "      <td>109.000000</td>\n",
       "      <td>109.000000</td>\n",
       "      <td>109.000000</td>\n",
       "    </tr>\n",
       "    <tr>\n",
       "      <th>mean</th>\n",
       "      <td>24665.250534</td>\n",
       "      <td>21.174312</td>\n",
       "      <td>26808.880734</td>\n",
       "      <td>2143.630200</td>\n",
       "    </tr>\n",
       "    <tr>\n",
       "      <th>std</th>\n",
       "      <td>3062.999207</td>\n",
       "      <td>8.481837</td>\n",
       "      <td>13574.318372</td>\n",
       "      <td>14379.130047</td>\n",
       "    </tr>\n",
       "    <tr>\n",
       "      <th>min</th>\n",
       "      <td>16385.888889</td>\n",
       "      <td>10.000000</td>\n",
       "      <td>683.000000</td>\n",
       "      <td>-26430.526316</td>\n",
       "    </tr>\n",
       "    <tr>\n",
       "      <th>25%</th>\n",
       "      <td>22633.545455</td>\n",
       "      <td>16.000000</td>\n",
       "      <td>14586.000000</td>\n",
       "      <td>-10308.000000</td>\n",
       "    </tr>\n",
       "    <tr>\n",
       "      <th>50%</th>\n",
       "      <td>25031.571429</td>\n",
       "      <td>20.000000</td>\n",
       "      <td>29746.000000</td>\n",
       "      <td>5837.090909</td>\n",
       "    </tr>\n",
       "    <tr>\n",
       "      <th>75%</th>\n",
       "      <td>26553.920000</td>\n",
       "      <td>23.000000</td>\n",
       "      <td>36706.000000</td>\n",
       "      <td>13817.111111</td>\n",
       "    </tr>\n",
       "    <tr>\n",
       "      <th>max</th>\n",
       "      <td>33414.526316</td>\n",
       "      <td>55.000000</td>\n",
       "      <td>49155.000000</td>\n",
       "      <td>28063.500000</td>\n",
       "    </tr>\n",
       "  </tbody>\n",
       "</table>\n",
       "</div>"
      ],
      "text/plain": [
       "       media_sem_fraude  numero_transacoes_sem_fraude        fraude  \\\n",
       "count        109.000000                    109.000000    109.000000   \n",
       "mean       24665.250534                     21.174312  26808.880734   \n",
       "std         3062.999207                      8.481837  13574.318372   \n",
       "min        16385.888889                     10.000000    683.000000   \n",
       "25%        22633.545455                     16.000000  14586.000000   \n",
       "50%        25031.571429                     20.000000  29746.000000   \n",
       "75%        26553.920000                     23.000000  36706.000000   \n",
       "max        33414.526316                     55.000000  49155.000000   \n",
       "\n",
       "       diferenca_media  \n",
       "count       109.000000  \n",
       "mean       2143.630200  \n",
       "std       14379.130047  \n",
       "min      -26430.526316  \n",
       "25%      -10308.000000  \n",
       "50%        5837.090909  \n",
       "75%       13817.111111  \n",
       "max       28063.500000  "
      ]
     },
     "execution_count": 207,
     "metadata": {},
     "output_type": "execute_result"
    }
   ],
   "source": [
    "df_fraudadores.describe()"
   ]
  },
  {
   "cell_type": "markdown",
   "id": "0ac9d560",
   "metadata": {},
   "source": [
    "Como o desvio padrão da diferença entre valor da transação fraudulenta e a média dos valores das transações de cada cliente fraudador é muito alto, não podemos usar está diferença como indicador de fraude.\n",
    "\n",
    "Resta agora verificar se há um padrão no número de transações que um cliente fraudador realiza. "
   ]
  },
  {
   "cell_type": "code",
   "execution_count": 240,
   "id": "ad958100",
   "metadata": {},
   "outputs": [
    {
     "data": {
      "image/png": "[encoded data removed]",
      "text/plain": [
       "<Figure size 432x288 with 1 Axes>"
      ]
     },
     "metadata": {
      "needs_background": "light"
     },
     "output_type": "display_data"
    }
   ],
   "source": [
    "sns.histplot(x= 'numero_transacoes_sem_fraude', data = df_fraudadores);\n",
    "plt.title('Clientes fraudadores');"
   ]
  },
  {
   "cell_type": "code",
   "execution_count": 235,
   "id": "9504ce2d",
   "metadata": {},
   "outputs": [],
   "source": [
    "numero_transacoes = []\n",
    "\n",
    "for c in df_consolidado['customer_id'].unique():\n",
    "    if c not in fraudadores:\n",
    "        numero_transacoes.append(df_consolidado.query('customer_id ==@c')['value'].count())\n"
   ]
  },
  {
   "cell_type": "code",
   "execution_count": 241,
   "id": "4b7e1844",
   "metadata": {},
   "outputs": [
    {
     "data": {
      "image/png": "[encoded data removed]",
      "text/plain": [
       "<Figure size 432x288 with 1 Axes>"
      ]
     },
     "metadata": {
      "needs_background": "light"
     },
     "output_type": "display_data"
    }
   ],
   "source": [
    "sns.histplot(numero_transacoes);\n",
    "plt.title('Clientes não fraudadores');"
   ]
  },
  {
   "cell_type": "markdown",
   "id": "e27ec4f7",
   "metadata": {},
   "source": [
    "As distribuições são muito parecidas, logo este parâmetro também pode ser descartado."
   ]
  },
  {
   "cell_type": "markdown",
   "id": "198ead31",
   "metadata": {},
   "source": [
    "## Conclusão\n",
    "\n",
    "Para concluir, não foi possível encontrar nenhuma forte relação entre as features do dataset e as transações fraudulentas. \n",
    "A média do valor das fraudes pareceu ser um pouco superior, mas devido a baixa frequência de fraudes no dataset, não é possível afirmar que esta observação é verdadeira."
   ]
  }
 ],
 "metadata": {
  "kernelspec": {
   "display_name": "Python 3",
   "language": "python",
   "name": "python3"
  },
  "language_info": {
   "codemirror_mode": {
    "name": "ipython",
    "version": 3
   },
   "file_extension": ".py",
   "mimetype": "text/x-python",
   "name": "python",
   "nbconvert_exporter": "python",
   "pygments_lexer": "ipython3",
   "version": "3.8.8"
  }
 },
 "nbformat": 4,
 "nbformat_minor": 5
}
